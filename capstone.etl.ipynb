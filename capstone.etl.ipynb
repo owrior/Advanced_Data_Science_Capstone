{
 "cells": [
  {
   "cell_type": "markdown",
   "metadata": {},
   "source": [
    "Decided to use a CNN to predict whether a person has pneumonia based on xray imaging. Data from kaggle: [data](https://www.kaggle.com/paultimothymooney/chest-xray-pneumonia)\n"
   ]
  },
  {
   "cell_type": "code",
   "execution_count": 1,
   "metadata": {},
   "outputs": [],
   "source": [
    "import os\n",
    "from time import time\n",
    "import numpy as np\n",
    "import random \n",
    "from skimage.io import imread\n",
    "from skimage.transform import resize"
   ]
  },
  {
   "cell_type": "markdown",
   "metadata": {},
   "source": [
    "Created function to read in, process and reshape images."
   ]
  },
  {
   "cell_type": "code",
   "execution_count": 2,
   "metadata": {
    "scrolled": true
   },
   "outputs": [],
   "source": [
    "conditions = [\"NORMAL\", \"PNEUMONIA\"]\n",
    "\n",
    "def read_images(set_name):\n",
    "    start = time()\n",
    "    all_images = []\n",
    "    labels = []\n",
    "    x = 0\n",
    "    for condition in conditions:\n",
    "        path = \"chest_xray/\" + set_name + \"/\" + condition\n",
    "        for image_path in os.listdir(path):\n",
    "            if image_path.endswith(\".jpeg\"):\n",
    "                image = imread(path + \"/\" + image_path, as_gray=True)\n",
    "                image_reshaped = image.reshape([image.shape[0], image.shape[1], 1])\n",
    "                all_images.append(image.astype(np.float32))\n",
    "                if condition == \"NORMAL\":\n",
    "                    labels.append(0)\n",
    "                else:\n",
    "                    labels.append(1)\n",
    "            if x % 1000 == 0:\n",
    "                print(x)\n",
    "            x += 1\n",
    "    x = np.array(all_images)\n",
    "    y = np.array(labels)\n",
    "    sample_index = random.sample(range(0, len(y)), k=len(y))\n",
    "    x = x[sample_index]\n",
    "    y = y[sample_index]\n",
    "    print(\"Finished \" + set_name + \" import. Took %s\" % str(time() - start))\n",
    "    return x, y\n",
    "    "
   ]
  },
  {
   "cell_type": "markdown",
   "metadata": {},
   "source": [
    "Import training data."
   ]
  },
  {
   "cell_type": "code",
   "execution_count": 3,
   "metadata": {},
   "outputs": [
    {
     "name": "stdout",
     "output_type": "stream",
     "text": [
      "0\n",
      "1000\n",
      "2000\n",
      "3000\n",
      "4000\n",
      "5000\n",
      "Finished train import. Took 183.1788845062256\n"
     ]
    }
   ],
   "source": [
    "# Import train sets\n",
    "train_x, train_y = read_images(\"train\")\n",
    "\n",
    "np.save(\"Data/train_x.npy\", train_x)\n",
    "np.save(\"Data/train_y.npy\", train_y)\n",
    "\n",
    "del train_x, train_y"
   ]
  },
  {
   "cell_type": "markdown",
   "metadata": {},
   "source": [
    "Import test data"
   ]
  },
  {
   "cell_type": "code",
   "execution_count": null,
   "metadata": {},
   "outputs": [
    {
     "name": "stdout",
     "output_type": "stream",
     "text": [
      "0\n"
     ]
    }
   ],
   "source": [
    "# Import test sets\n",
    "test_x, test_y = read_images(\"test\")\n",
    "\n",
    "np.save(\"Data/test_x.npy\", test_x)\n",
    "np.save(\"Data/test_y.npy\", test_y)\n",
    "\n",
    "del test_x, test_y"
   ]
  },
  {
   "cell_type": "markdown",
   "metadata": {},
   "source": [
    "Import validation data."
   ]
  },
  {
   "cell_type": "code",
   "execution_count": null,
   "metadata": {},
   "outputs": [],
   "source": [
    "# Import val sets\n",
    "val_x, val_y = read_images(\"val\")\n",
    "\n",
    "np.save(\"Data/val_x.npy\", val_x)\n",
    "np.save(\"Data/val_y.npy\", val_y)\n",
    "\n",
    "del val_x, val_y"
   ]
  }
 ],
 "metadata": {
  "kernelspec": {
   "display_name": "Python 3",
   "language": "python",
   "name": "python3"
  },
  "language_info": {
   "codemirror_mode": {
    "name": "ipython",
    "version": 3
   },
   "file_extension": ".py",
   "mimetype": "text/x-python",
   "name": "python",
   "nbconvert_exporter": "python",
   "pygments_lexer": "ipython3",
   "version": "3.8.5"
  }
 },
 "nbformat": 4,
 "nbformat_minor": 4
}
